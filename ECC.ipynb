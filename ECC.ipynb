{
  "nbformat": 4,
  "nbformat_minor": 0,
  "metadata": {
    "colab": {
      "provenance": []
    },
    "kernelspec": {
      "name": "python3",
      "display_name": "Python 3"
    },
    "language_info": {
      "name": "python"
    }
  },
  "cells": [
    {
      "cell_type": "code",
      "execution_count": null,
      "metadata": {
        "id": "gouYN7IX9IEo"
      },
      "outputs": [],
      "source": [
        "#pip install numpy sympy\n",
        "import random\n",
        "import math\n",
        "\n",
        "\n",
        "class Elliptic_Curve:\n",
        "    def __init__(self,a,b,p): # defining the elliptic curve y^2 = x^3+ax+b over F_p#\n",
        "        self.a = a\n",
        "        self.b = b\n",
        "        self.p = p\n",
        "\n",
        "\n",
        "    def singularity_check(self,a,b,p):    # checking if the curve is singular\n",
        "      delta = -16*(4*(self.a)**3 + 27*(self.b)**2)%self.p\n",
        "      if delta==0:\n",
        "        print(\"The curve is singular\")\n",
        "      else:\n",
        "        print(\"The curve is not singular\")\n",
        "\n",
        "\n",
        "    def point_on_curve(self,x,y):# checking if a given point lies on the elliptic curve\n",
        "        if x is None and y is None:\n",
        "            return True\n",
        "        return (y**2-(x**3 + self.a*x + self.b))%self.p==0\n",
        "\n",
        "\n",
        "    def adding_points(self,P,Q): # adding two points on an elliptic curve\n",
        "\n",
        "        if P is None:             #None is point at infinity,i.e zero w.r.t group structure\n",
        "            return Q\n",
        "        if Q is None:\n",
        "            return P\n",
        "\n",
        "\n",
        "        x_1,y_1=P\n",
        "        x_2,y_2=Q\n",
        "        if not self.point_on_curve(x_1, y_1) or not self.point_on_curve(x_2, y_2):\n",
        "           raise ValueError(\"One or both points do not lie on the curve\")\n",
        "\n",
        "\n",
        "        elif x_1 == x_2 and (y_1 + y_2) % self.p == 0: #the case where P == -Q\n",
        "            return None\n",
        "\n",
        "        elif P==Q:\n",
        "            m = (3*x_1**2 + self.a)*pow(2*y_1,-1,self.p)%self.p\n",
        "        else:\n",
        "            m =(y_2-y_1)*pow(x_2-x_1,-1,self.p)%self.p\n",
        "        x_3 = (m**2-x_1-x_2)%self.p\n",
        "        y_3 = (m*(x_1-x_3)-y_1)%self.p\n",
        "        return (x_3,y_3)\n",
        "\n",
        "\n",
        "    def scalar_mult(self,k,P): #adding a point k times\n",
        "         Q=None\n",
        "         x_1,y_1=P\n",
        "         if curve.point_on_curve(x_1,y_1)==False:\n",
        "            print( \"Point doesn't lie on the curve\")\n",
        "         elif k==0:\n",
        "             return None\n",
        "         while k>0:\n",
        "             if k%2==1:\n",
        "                 Q = self.adding_points(Q,P)\n",
        "             P = self.adding_points(P,P)\n",
        "             k//=2\n",
        "         return Q\n",
        "\n"
      ]
    },
    {
      "cell_type": "code",
      "source": [
        "curve = Elliptic_Curve(7, 3, 103)\n",
        "\n",
        "curve.singularity_check(7,3,103)\n",
        "# Check if the point is on the curve\n",
        "print(curve.point_on_curve(3, 6))\n",
        "print(curve.point_on_curve(1, 7))\n",
        "\n",
        " # True if the point is valid\n",
        "\n",
        "# Add two points\n"
      ],
      "metadata": {
        "colab": {
          "base_uri": "https://localhost:8080/"
        },
        "id": "QgdxTLvw9s4o",
        "outputId": "aaf9f6a2-e3b4-4e34-e383-79120b266319"
      },
      "execution_count": null,
      "outputs": [
        {
          "output_type": "stream",
          "name": "stdout",
          "text": [
            "The curve is not singular\n",
            "False\n",
            "False\n"
          ]
        }
      ]
    },
    {
      "cell_type": "code",
      "source": [
        "\n",
        "def order_of_a_point(curve, P): # finding order of a given point\n",
        "\n",
        "    if P is None:\n",
        "        return 1\n",
        "\n",
        "    k = 1\n",
        "    upper_bound = curve.p + 1 + 2 * math.floor(math.sqrt(curve.p))  # Hasse's theorem bound\n",
        "\n",
        "    while k < upper_bound:\n",
        "        if curve.scalar_mult(k, P) is not None:  # Check if kP is still a valid point\n",
        "            k += 1\n",
        "        else:\n",
        "            break  # Stop when kP = None (point at infinity)\n",
        "\n",
        "    return k"
      ],
      "metadata": {
        "id": "BCknFHY99y1-"
      },
      "execution_count": null,
      "outputs": []
    },
    {
      "cell_type": "code",
      "source": [
        "curve = Elliptic_Curve(7, 3, 103)\n",
        "P=(3,6)\n",
        "\n",
        "print(order_of_a_point(curve,P))"
      ],
      "metadata": {
        "colab": {
          "base_uri": "https://localhost:8080/"
        },
        "id": "8k-2KlKn_Yuh",
        "outputId": "f2192a8d-1c86-4aa6-fba1-68155cc757f9"
      },
      "execution_count": null,
      "outputs": [
        {
          "output_type": "stream",
          "name": "stdout",
          "text": [
            "104\n"
          ]
        }
      ]
    },
    {
      "cell_type": "code",
      "source": [
        "\n",
        "def legendre_symbol (a,p):\n",
        "  y = pow(a,int((p-1)/2),p)\n",
        "  if y==1:\n",
        "    return 1\n",
        "  else:\n",
        "    return -1\n",
        "def point_count (a,b,p): #computes number of points on a given elliptic curve\n",
        "  x=0\n",
        "  count = 1\n",
        "  for x in range(p):\n",
        "    rhs = (x**3 + a*x +b)%p\n",
        "    if legendre_symbol(rhs,p)==1:\n",
        "      count+=2\n",
        "    elif legendre_symbol(rhs,p)==0:\n",
        "      count+=1\n",
        "  return count\n",
        "\n",
        "def point_generation(a,b,p):\n",
        "  x=0\n",
        "  point_list=[]\n",
        "  for x in range(p):\n",
        "    rhs = (x**3 + a*x +b)%p\n",
        "    if rhs!=0 and legendre_symbol(rhs,p)==1: # Here we crucially use the fact p=3mod4. otherwise use Tonelli-Shanks.\n",
        "      y = pow(rhs,int((p+1)/4),p)\n",
        "      point_list.append((x,y))\n",
        "      point_list.append((x,(-y)%p))\n",
        "    elif rhs == 0:\n",
        "            point_list.append((x, 0))\n",
        "  return point_list\n",
        "\n",
        "\n",
        "\n",
        "\n",
        "\n",
        "\n",
        "\n"
      ],
      "metadata": {
        "id": "fx2Li5FLX87_"
      },
      "execution_count": null,
      "outputs": []
    },
    {
      "cell_type": "code",
      "source": [
        "print(point_count(7,3,103))"
      ],
      "metadata": {
        "colab": {
          "base_uri": "https://localhost:8080/"
        },
        "id": "28ymeBMwqloz",
        "outputId": "40a080d2-2e87-4a58-b28b-a2dfc06d72a4"
      },
      "execution_count": null,
      "outputs": [
        {
          "output_type": "stream",
          "name": "stdout",
          "text": [
            "101\n"
          ]
        }
      ]
    },
    {
      "cell_type": "code",
      "source": [
        "point_generation(7,3,103)"
      ],
      "metadata": {
        "id": "fwgwfqOnsFOF",
        "colab": {
          "base_uri": "https://localhost:8080/"
        },
        "outputId": "eb846c63-19ad-4fee-875c-54eda4cdb8a6"
      },
      "execution_count": null,
      "outputs": [
        {
          "output_type": "execute_result",
          "data": {
            "text/plain": [
              "[(2, 98),\n",
              " (2, 5),\n",
              " (5, 36),\n",
              " (5, 67),\n",
              " (6, 63),\n",
              " (6, 40),\n",
              " (8, 46),\n",
              " (8, 57),\n",
              " (11, 81),\n",
              " (11, 22),\n",
              " (12, 8),\n",
              " (12, 95),\n",
              " (13, 98),\n",
              " (13, 5),\n",
              " (14, 8),\n",
              " (14, 95),\n",
              " (16, 83),\n",
              " (16, 20),\n",
              " (17, 83),\n",
              " (17, 20),\n",
              " (21, 55),\n",
              " (21, 48),\n",
              " (22, 14),\n",
              " (22, 89),\n",
              " (29, 9),\n",
              " (29, 94),\n",
              " (31, 55),\n",
              " (31, 48),\n",
              " (33, 92),\n",
              " (33, 11),\n",
              " (36, 56),\n",
              " (36, 47),\n",
              " (37, 41),\n",
              " (37, 62),\n",
              " (38, 97),\n",
              " (38, 6),\n",
              " (39, 79),\n",
              " (39, 24),\n",
              " (41, 60),\n",
              " (41, 43),\n",
              " (42, 15),\n",
              " (42, 88),\n",
              " (45, 59),\n",
              " (45, 44),\n",
              " (46, 29),\n",
              " (46, 74),\n",
              " (48, 0),\n",
              " (49, 36),\n",
              " (49, 67),\n",
              " (50, 38),\n",
              " (50, 65),\n",
              " (51, 55),\n",
              " (51, 48),\n",
              " (53, 2),\n",
              " (53, 101),\n",
              " (54, 7),\n",
              " (54, 96),\n",
              " (57, 68),\n",
              " (57, 35),\n",
              " (59, 1),\n",
              " (59, 102),\n",
              " (63, 60),\n",
              " (63, 43),\n",
              " (66, 30),\n",
              " (66, 73),\n",
              " (67, 28),\n",
              " (67, 75),\n",
              " (69, 61),\n",
              " (69, 42),\n",
              " (70, 83),\n",
              " (70, 20),\n",
              " (74, 50),\n",
              " (74, 53),\n",
              " (75, 0),\n",
              " (77, 8),\n",
              " (77, 95),\n",
              " (79, 15),\n",
              " (79, 88),\n",
              " (81, 4),\n",
              " (81, 99),\n",
              " (83, 0),\n",
              " (84, 18),\n",
              " (84, 85),\n",
              " (85, 15),\n",
              " (85, 88),\n",
              " (86, 92),\n",
              " (86, 11),\n",
              " (87, 92),\n",
              " (87, 11),\n",
              " (88, 98),\n",
              " (88, 5),\n",
              " (93, 13),\n",
              " (93, 90),\n",
              " (96, 34),\n",
              " (96, 69),\n",
              " (98, 7),\n",
              " (98, 96),\n",
              " (99, 23),\n",
              " (99, 80),\n",
              " (100, 26),\n",
              " (100, 77),\n",
              " (102, 60),\n",
              " (102, 43)]"
            ]
          },
          "metadata": {},
          "execution_count": 2
        }
      ]
    },
    {
      "cell_type": "code",
      "source": [
        "random_point = random.choice(point_generation(7,3,103)) # generates a random point on the elliptic curve which is then made public.\n",
        "print(random_point)"
      ],
      "metadata": {
        "colab": {
          "base_uri": "https://localhost:8080/"
        },
        "id": "fPS0XOmlPSPy",
        "outputId": "26e8d93e-33ec-444a-f516-59ff6c329bdf"
      },
      "execution_count": null,
      "outputs": [
        {
          "output_type": "stream",
          "name": "stdout",
          "text": [
            "(63, 43)\n"
          ]
        }
      ]
    },
    {
      "cell_type": "code",
      "source": [],
      "metadata": {
        "id": "YC3eRyTRQB4K"
      },
      "execution_count": null,
      "outputs": []
    }
  ]
}